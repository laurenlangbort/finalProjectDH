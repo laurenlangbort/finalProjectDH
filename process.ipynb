{
 "cells": [
  {
   "cell_type": "code",
   "execution_count": null,
   "id": "1708057a",
   "metadata": {},
   "outputs": [],
   "source": [
    "import pandas as pd\n",
    "\n",
    "data = pd.read_csv('./Book2-iliad-locations-Sheet1.csv')"
   ]
  },
  {
   "cell_type": "code",
   "execution_count": null,
   "id": "d1c8555e",
   "metadata": {},
   "outputs": [
    {
     "name": "stdout",
     "output_type": "stream",
     "text": [
      "['Chalcis', 'Eretria']\n"
     ]
    }
   ],
   "source": [
    "\n",
    "even_more_settlements = [\"Chalcis\", \"Eretria\", \"Histiaea\", \"Cerinthus\", \"Dium\", \"Carystus\", \"Styra\"]\n",
    "\n",
    "matched_even_more_settlements = [\n",
    "    settlement for settlement in even_more_settlements \n",
    "    if data['Name'].str.contains(settlement, case=False, na=False).any()\n",
    "]\n",
    "\n",
    "print(matched_even_more_settlements)"
   ]
  },
  {
   "cell_type": "code",
   "execution_count": 5,
   "id": "568203fc",
   "metadata": {},
   "outputs": [
    {
     "name": "stdout",
     "output_type": "stream",
     "text": [
      "['Pheneus', 'Orchomenus', 'Tegea', 'Mantinea', 'Parrhasia']\n",
      "['Myrsinus']\n",
      "['Lyctus', 'Miletus', 'Lycastus']\n",
      "['Phthia']\n"
     ]
    }
   ],
   "source": [
    "settlements3 = [\"Cyllene\", \"Pheneus\", \"Orchomenus\", \"Rhipae\", \"Stratie\", \"Enispe\", \"Tegea\", \"Mantinea\", \"Stymphalos\", \"Parrhasia\"]\n",
    "\n",
    "matched_settlements3 = [\n",
    "    settlement for settlement in settlements3\n",
    "    if data['Name'].str.contains(settlement, case=False, na=False).any()\n",
    "]\n",
    "\n",
    "print(matched_settlements3)\n",
    "\n",
    "settlements4 = [\"Buprasium\", \"Hyrmine\", \"Myrsinus\", \"Olene\", \"Alesium\"]\n",
    "\n",
    "matched_settlements4 = [\n",
    "    settlement for settlement in settlements4 \n",
    "    if data['Name'].str.contains(settlement, case=False, na=False).any()\n",
    "]\n",
    "print(matched_settlements4)\n",
    "\n",
    "settlements5 = [\"Cnossus\", \"Gortys\", \"Lyctus\", \"Miletus\", \"Lycastus\", \"Phaestus\", \"Rhytium\"]\n",
    "matched_settlements5 = [\n",
    "    settlement for settlement in settlements5 \n",
    "    if data['Name'].str.contains(settlement, case=False, na=False).any()\n",
    "]\n",
    "print(matched_settlements5)\n",
    "\n",
    "settlements6 = [\"Pelasgic Argos\", \"Alos\", \"Alope\", \"Trachis\", \"Phthia\"]\n",
    "matched_settlements6 = [\n",
    "    settlement for settlement in settlements6 \n",
    "    if data['Name'].str.contains(settlement, case=False, na=False).any()\n",
    "]\n",
    "print(matched_settlements6)"
   ]
  }
 ],
 "metadata": {
  "kernelspec": {
   "display_name": "Python 3",
   "language": "python",
   "name": "python3"
  },
  "language_info": {
   "codemirror_mode": {
    "name": "ipython",
    "version": 3
   },
   "file_extension": ".py",
   "mimetype": "text/x-python",
   "name": "python",
   "nbconvert_exporter": "python",
   "pygments_lexer": "ipython3",
   "version": "3.12.1"
  }
 },
 "nbformat": 4,
 "nbformat_minor": 5
}
