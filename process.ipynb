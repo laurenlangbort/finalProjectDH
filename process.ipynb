{
 "cells": [
  {
   "cell_type": "code",
   "execution_count": null,
   "id": "1708057a",
   "metadata": {
    "vscode": {
     "languageId": "plaintext"
    }
   },
   "outputs": [],
   "source": [
    "# List of new settlements to check in the CSV file\n",
    "even_more_settlements = [\"Chalcis\", \"Eretria\", \"Histiaea\", \"Cerinthus\", \"Dium\", \"Carystus\", \"Styra\"]\n",
    "\n",
    "# Check for the presence of these settlements in the 'Name' column of the CSV file\n",
    "matched_even_more_settlements = [\n",
    "    settlement for settlement in even_more_settlements \n",
    "    if data['Name'].str.contains(settlement, case=False, na=False).any()\n",
    "]\n",
    "\n",
    "print(matched_even_more_settlements)"
   ]
  }
 ],
 "metadata": {
  "language_info": {
   "name": "python"
  }
 },
 "nbformat": 4,
 "nbformat_minor": 5
}
